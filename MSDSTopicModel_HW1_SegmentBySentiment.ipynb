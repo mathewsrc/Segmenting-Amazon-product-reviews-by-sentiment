{
  "nbformat": 4,
  "nbformat_minor": 0,
  "metadata": {
    "colab": {
      "provenance": [],
      "collapsed_sections": [],
      "include_colab_link": true
    },
    "kernelspec": {
      "name": "python3",
      "display_name": "Python 3"
    },
    "language_info": {
      "name": "python"
    }
  },
  "cells": [
    {
      "cell_type": "markdown",
      "metadata": {
        "id": "view-in-github",
        "colab_type": "text"
      },
      "source": [
        "<a href=\"https://colab.research.google.com/github/punkmic/Segmenting-Amazon-product-reviews-by-sentiment/blob/master/MSDSTopicModel_HW1_SegmentBySentiment.ipynb\" target=\"_parent\"><img src=\"https://colab.research.google.com/assets/colab-badge.svg\" alt=\"Open In Colab\"/></a>"
      ]
    },
    {
      "cell_type": "markdown",
      "source": [
        "# MSDS Marketing Text Analytics, Assignment 1: Segmenting Amazon product reviews by sentiment"
      ],
      "metadata": {
        "id": "9olexO57vTT9"
      }
    },
    {
      "cell_type": "markdown",
      "source": [
        "## ⚡️ Make a Copy\n",
        "\n",
        "Save a copy of this notebook in your Google Drive before continuing. Be sure to edit your own copy, not the original notebook."
      ],
      "metadata": {
        "id": "jMR9ccrz3_I-"
      }
    },
    {
      "cell_type": "markdown",
      "source": [
        "Topic models are only as good as the data you put into them. If we were Nike, and we worked a team that was designed to increase the quality of our products, it might make sense to only look at review that expressed negative sentiment.\n",
        "\n",
        "For this assignment, you will use a pretrained sentiment analysis model to implement a function capable of filtering a list of texts for negative sentiment. This function can be used in turn to extract a set of negative reviews.\n",
        "\n",
        "For information about how to calculate text sentiment, see the [TextBlob documentation](https://textblob.readthedocs.io/en/dev/quickstart.html#sentiment-analysis)"
      ],
      "metadata": {
        "id": "JjIAU4iLvg8z"
      }
    },
    {
      "cell_type": "markdown",
      "source": [
        "## Imports"
      ],
      "metadata": {
        "id": "yF_LlvAHpl0H"
      }
    },
    {
      "cell_type": "code",
      "source": [
        "import gzip\n",
        "import itertools\n",
        "import json\n",
        "from textblob import TextBlob"
      ],
      "metadata": {
        "id": "4GYWhLPGwIkT"
      },
      "execution_count": null,
      "outputs": []
    },
    {
      "cell_type": "markdown",
      "source": [
        "## Implement get_negative_texts"
      ],
      "metadata": {
        "id": "GOP3vQ9dpoJN"
      }
    },
    {
      "cell_type": "code",
      "source": [
        "def get_negative_texts(texts):\n",
        "    \"\"\"Implement this function which should take a list of texts\n",
        "    and returns a list of the texts that are determined to be\n",
        "    of negative sentiment.\n",
        "\n",
        "    See the TextBlob documentation for how to evaluate sentiment. For our\n",
        "    purposes here, negative sentiment is a sentiment with polarity < 0.0.\n",
        "    \"\"\"\n",
        "    pass # TODO: Implement this function"
      ],
      "metadata": {
        "id": "bHvUyVZXjuzu"
      },
      "execution_count": null,
      "outputs": []
    },
    {
      "cell_type": "code",
      "source": [
        "#~~ /autograde # do not delete this code cell"
      ],
      "metadata": {
        "id": "RRutuyaNnPpA"
      },
      "execution_count": null,
      "outputs": []
    },
    {
      "cell_type": "markdown",
      "source": [
        "---\n",
        "### ⚠️  **Caution:** No arbitrary code above this line\n",
        "\n",
        "The only code written above should be the implementation of your graded \n",
        "function. For experimentation and testing, only add code below.\n",
        "\n",
        "---"
      ],
      "metadata": {
        "id": "_24Ip1ZPocSu"
      }
    },
    {
      "cell_type": "markdown",
      "source": [
        "## **⚡️ Important:** Beware of sentiment fuzziness\n",
        "\n",
        "Like most machine-learning approaches, TextBlob's sentiment analysis is probabilistic -- results will sometimes not match your expectations. Keep that in mind if you edit the texts below. Your assignment will be tested against actual results from TextBlob's sentiment polarities, so be sure to use that specific approach for this assignment. You are free to experiment with other approaches in your peer-reviewed unit project."
      ],
      "metadata": {
        "id": "0mrZQkVeZM5i"
      }
    },
    {
      "cell_type": "code",
      "source": [
        "texts = [ # you may edit this list for further exploration and testing\n",
        "    \"We all love apple pie\",\n",
        "    \"We hate aparagus\",\n",
        "    \"Rainbows are beautiful\",\n",
        "    \"Landfills are ugly\"\n",
        "]\n",
        "get_negative_texts(texts)"
      ],
      "metadata": {
        "id": "R6AACunTw58d"
      },
      "execution_count": null,
      "outputs": []
    },
    {
      "cell_type": "markdown",
      "source": [
        "## **💡 Tip:** Python generators for advanced implementation\n",
        "\n",
        "When processing large amounts of data, it can be problematic to simply pass around lists of things, which can eat up system resources like memory.\n",
        "\n",
        "🐍 Python's solution to this problem is the concept of a generator. A generator \"yields\" its elements one-by-one, rather than returning them all as a single data structure. For example, consider the following simple function:\n",
        "\n",
        "```\n",
        "def get_list():\n",
        "    return [1, 2, 3]\n",
        "```\n",
        "\n",
        "The generator version of this function would look like this:\n",
        "\n",
        "```\n",
        "def get_list():\n",
        "    for x in [1, 2, 3]:\n",
        "        yield x\n",
        "```\n",
        "\n",
        "The result can be iterated as expected:\n",
        "\n",
        "```\n",
        "for i in get_list():\n",
        "    print(i)\n",
        "```\n",
        "\n",
        "For purposes of this assignment and for the Unit 2 project, you may use either a list-based solution, or a generator as you see fit. For more information about generators, see the [Python wiki documentation on generators](https://wiki.python.org/moin/Generators) or this [generator tutorial from RealPython](https://realpython.com/introduction-to-python-generators/)\n",
        "\n"
      ],
      "metadata": {
        "id": "sib60_oA-TF2"
      }
    },
    {
      "cell_type": "markdown",
      "source": [
        "## Applying segmentation to Amazon reviews"
      ],
      "metadata": {
        "id": "w72FktuQmpf0"
      }
    },
    {
      "cell_type": "markdown",
      "source": [
        "The code below demonstrates segmentation of reviews by negative sentiment by first aggregating the Nike reviews, then calling get_negative_texts on the list of review texts. If you have implemented your function correctly, and have uploaded the necessary data files to your Drive account, this code should just work."
      ],
      "metadata": {
        "id": "H7NmMdX6m0Xs"
      }
    },
    {
      "cell_type": "markdown",
      "source": [
        "## Mount Google Drive"
      ],
      "metadata": {
        "id": "wovTIVBVRfjv"
      }
    },
    {
      "cell_type": "code",
      "source": [
        "from google.colab import drive\n",
        "drive.mount('/content/drive')"
      ],
      "metadata": {
        "id": "YjsRrETJRhor"
      },
      "execution_count": null,
      "outputs": []
    },
    {
      "cell_type": "code",
      "execution_count": null,
      "metadata": {
        "id": "EhvAzKUivNFS"
      },
      "outputs": [],
      "source": [
        "asins = []\n",
        "\n",
        "# To run this code, you will need to download the metadata file from the course\n",
        "# assets and upload it to your Google Drive. See the notes about that file\n",
        "# regarding how it was processed from the original file into json-l format.\n",
        "\n",
        "with gzip.open(\"drive/MyDrive/meta_Clothing_Shoes_and_Jewelry.jsonl.gz\") as products:\n",
        "    for product in products:\n",
        "        data = json.loads(product)\n",
        "        categories = [c.lower() for c in\n",
        "                      list(itertools.chain(*data.get(\"categories\", [])))]\n",
        "        if \"nike\" in categories:\n",
        "            asins.append(data[\"asin\"])"
      ]
    },
    {
      "cell_type": "code",
      "source": [
        "asins[:3]"
      ],
      "metadata": {
        "id": "NAPsuP23vk3T"
      },
      "execution_count": null,
      "outputs": []
    },
    {
      "cell_type": "code",
      "source": [
        "len(asins)"
      ],
      "metadata": {
        "id": "zYIz6NBYv0ki"
      },
      "execution_count": null,
      "outputs": []
    },
    {
      "cell_type": "code",
      "source": [
        "# To run this code, you will need to download the reviews file from the course\n",
        "# assets and upload it to your Google Drive. Unlike the metadata above, this\n",
        "# file was originally provided as json-l, and is json-l despite the .json\n",
        "# file name.\n",
        "\n",
        "all_texts = []\n",
        "with gzip.open(\"drive/MyDrive/reviews_Clothing_Shoes_and_Jewelry_5.json.gz\") as reviews:\n",
        "    for review in reviews:\n",
        "        data = json.loads(review)\n",
        "        if data[\"asin\"] in asins:\n",
        "            text = data[\"reviewText\"]\n",
        "            all_texts.append(text)"
      ],
      "metadata": {
        "id": "BZULmiTPv2Nu"
      },
      "execution_count": null,
      "outputs": []
    },
    {
      "cell_type": "code",
      "source": [
        "for i, text in enumerate(all_texts[:5]):\n",
        "    print(i, text[:80])"
      ],
      "metadata": {
        "id": "KoAM5XUrzfTh"
      },
      "execution_count": null,
      "outputs": []
    },
    {
      "cell_type": "code",
      "source": [
        "negative_texts = get_negative_texts(all_texts)"
      ],
      "metadata": {
        "id": "cN1x7cVnzmN_"
      },
      "execution_count": null,
      "outputs": []
    },
    {
      "cell_type": "code",
      "source": [
        "for i, text in enumerate(negative_texts[:5]):\n",
        "    print(i, text)"
      ],
      "metadata": {
        "id": "yJ3SJajozqz4"
      },
      "execution_count": null,
      "outputs": []
    },
    {
      "cell_type": "code",
      "source": [
        "len(negative_texts)"
      ],
      "metadata": {
        "id": "ed8eAHa1jqnJ"
      },
      "execution_count": null,
      "outputs": []
    },
    {
      "cell_type": "code",
      "source": [
        "print(negative_texts)"
      ],
      "metadata": {
        "id": "cEAkmYErj65p"
      },
      "execution_count": null,
      "outputs": []
    },
    {
      "cell_type": "markdown",
      "source": [
        "## Moving forward\n",
        "\n"
      ],
      "metadata": {
        "id": "rCZaYsLtp1r5"
      }
    },
    {
      "cell_type": "markdown",
      "source": [
        "### About segmentation\n",
        "\n",
        "Between the Sales Rank segmentation demo notebook, and this sentiment segmentation assigment, you should have a good sense at this point of the idea of segmentation, and how you might approach it in this data set. You will make use of this knowledge in the unit project -- your peers will be checking to see that you segmented your product data in an interesting way as part of the analysis for the project."
      ],
      "metadata": {
        "id": "pe5Jkr1KrOoe"
      }
    },
    {
      "cell_type": "markdown",
      "source": [
        "### Moving on to topic modeling\n",
        "\n",
        "Before tackling the project, be sure to do the topic modeling assignment which is the next and final component in preparation for the unit project."
      ],
      "metadata": {
        "id": "Cr1R-LvgrLhx"
      }
    },
    {
      "cell_type": "code",
      "source": [],
      "metadata": {
        "id": "HZbFbKMxz_oy"
      },
      "execution_count": null,
      "outputs": []
    }
  ]
}