{
  "nbformat": 4,
  "nbformat_minor": 0,
  "metadata": {
    "colab": {
      "provenance": [],
      "collapsed_sections": [],
      "include_colab_link": true
    },
    "kernelspec": {
      "name": "python3",
      "display_name": "Python 3"
    },
    "language_info": {
      "name": "python"
    }
  },
  "cells": [
    {
      "cell_type": "markdown",
      "metadata": {
        "id": "view-in-github",
        "colab_type": "text"
      },
      "source": [
        "<a href=\"https://colab.research.google.com/github/punkmic/Segmenting-Amazon-product-reviews-by-sentiment/blob/master/MSDSTopicModel_HW1_SegmentBySentiment.ipynb\" target=\"_parent\"><img src=\"https://colab.research.google.com/assets/colab-badge.svg\" alt=\"Open In Colab\"/></a>"
      ]
    },
    {
      "cell_type": "markdown",
      "source": [
        "# MSDS Marketing Text Analytics, Assignment 1: Segmenting Amazon product reviews by sentiment"
      ],
      "metadata": {
        "id": "9olexO57vTT9"
      }
    },
    {
      "cell_type": "markdown",
      "source": [
        "## ⚡️ Make a Copy\n",
        "\n",
        "Save a copy of this notebook in your Google Drive before continuing. Be sure to edit your own copy, not the original notebook."
      ],
      "metadata": {
        "id": "jMR9ccrz3_I-"
      }
    },
    {
      "cell_type": "markdown",
      "source": [
        "Topic models are only as good as the data you put into them. If we were Nike, and we worked a team that was designed to increase the quality of our products, it might make sense to only look at review that expressed negative sentiment.\n",
        "\n",
        "For this assignment, you will use a pretrained sentiment analysis model to implement a function capable of filtering a list of texts for negative sentiment. This function can be used in turn to extract a set of negative reviews.\n",
        "\n",
        "For information about how to calculate text sentiment, see the [TextBlob documentation](https://textblob.readthedocs.io/en/dev/quickstart.html#sentiment-analysis)"
      ],
      "metadata": {
        "id": "JjIAU4iLvg8z"
      }
    },
    {
      "cell_type": "markdown",
      "source": [
        "## Imports"
      ],
      "metadata": {
        "id": "yF_LlvAHpl0H"
      }
    },
    {
      "cell_type": "code",
      "source": [
        "import gzip\n",
        "import itertools\n",
        "import json\n",
        "from textblob import TextBlob"
      ],
      "metadata": {
        "id": "4GYWhLPGwIkT"
      },
      "execution_count": 1,
      "outputs": []
    },
    {
      "cell_type": "markdown",
      "source": [
        "## Implement get_negative_texts"
      ],
      "metadata": {
        "id": "GOP3vQ9dpoJN"
      }
    },
    {
      "cell_type": "code",
      "source": [
        "def get_negative_texts(texts):\n",
        "    \"\"\"Implement this function which should take a list of texts\n",
        "    and returns a list of the texts that are determined to be\n",
        "    of negative sentiment.\n",
        "\n",
        "    See the TextBlob documentation for how to evaluate sentiment. For our\n",
        "    purposes here, negative sentiment is a sentiment with polarity < 0.0.\n",
        "    \"\"\"\n",
        "    negative_texts = [text for text in texts for polarity in TextBlob(text).sentiment if polarity < 0.0]\n",
        "    return negative_texts"
      ],
      "metadata": {
        "id": "bHvUyVZXjuzu"
      },
      "execution_count": 14,
      "outputs": []
    },
    {
      "cell_type": "code",
      "source": [
        "#~~ /autograde # do not delete this code cell"
      ],
      "metadata": {
        "id": "RRutuyaNnPpA"
      },
      "execution_count": null,
      "outputs": []
    },
    {
      "cell_type": "markdown",
      "source": [
        "---\n",
        "### ⚠️  **Caution:** No arbitrary code above this line\n",
        "\n",
        "The only code written above should be the implementation of your graded \n",
        "function. For experimentation and testing, only add code below.\n",
        "\n",
        "---"
      ],
      "metadata": {
        "id": "_24Ip1ZPocSu"
      }
    },
    {
      "cell_type": "markdown",
      "source": [
        "## **⚡️ Important:** Beware of sentiment fuzziness\n",
        "\n",
        "Like most machine-learning approaches, TextBlob's sentiment analysis is probabilistic -- results will sometimes not match your expectations. Keep that in mind if you edit the texts below. Your assignment will be tested against actual results from TextBlob's sentiment polarities, so be sure to use that specific approach for this assignment. You are free to experiment with other approaches in your peer-reviewed unit project."
      ],
      "metadata": {
        "id": "0mrZQkVeZM5i"
      }
    },
    {
      "cell_type": "code",
      "source": [
        "texts = [ # you may edit this list for further exploration and testing\n",
        "    \"We all love apple pie\",\n",
        "    \"We hate aparagus\",\n",
        "    \"Rainbows are beautiful\",\n",
        "    \"Landfills are ugly\"\n",
        "]\n",
        "get_negative_texts(texts)"
      ],
      "metadata": {
        "id": "R6AACunTw58d",
        "colab": {
          "base_uri": "https://localhost:8080/"
        },
        "outputId": "17c9e71e-2f91-43b1-82f9-28340d72bd64"
      },
      "execution_count": 15,
      "outputs": [
        {
          "output_type": "execute_result",
          "data": {
            "text/plain": [
              "['We hate aparagus', 'Landfills are ugly']"
            ]
          },
          "metadata": {},
          "execution_count": 15
        }
      ]
    },
    {
      "cell_type": "markdown",
      "source": [
        "## **💡 Tip:** Python generators for advanced implementation\n",
        "\n",
        "When processing large amounts of data, it can be problematic to simply pass around lists of things, which can eat up system resources like memory.\n",
        "\n",
        "🐍 Python's solution to this problem is the concept of a generator. A generator \"yields\" its elements one-by-one, rather than returning them all as a single data structure. For example, consider the following simple function:\n",
        "\n",
        "```\n",
        "def get_list():\n",
        "    return [1, 2, 3]\n",
        "```\n",
        "\n",
        "The generator version of this function would look like this:\n",
        "\n",
        "```\n",
        "def get_list():\n",
        "    for x in [1, 2, 3]:\n",
        "        yield x\n",
        "```\n",
        "\n",
        "The result can be iterated as expected:\n",
        "\n",
        "```\n",
        "for i in get_list():\n",
        "    print(i)\n",
        "```\n",
        "\n",
        "For purposes of this assignment and for the Unit 2 project, you may use either a list-based solution, or a generator as you see fit. For more information about generators, see the [Python wiki documentation on generators](https://wiki.python.org/moin/Generators) or this [generator tutorial from RealPython](https://realpython.com/introduction-to-python-generators/)\n",
        "\n"
      ],
      "metadata": {
        "id": "sib60_oA-TF2"
      }
    },
    {
      "cell_type": "markdown",
      "source": [
        "## Applying segmentation to Amazon reviews"
      ],
      "metadata": {
        "id": "w72FktuQmpf0"
      }
    },
    {
      "cell_type": "markdown",
      "source": [
        "The code below demonstrates segmentation of reviews by negative sentiment by first aggregating the Nike reviews, then calling get_negative_texts on the list of review texts. If you have implemented your function correctly, and have uploaded the necessary data files to your Drive account, this code should just work."
      ],
      "metadata": {
        "id": "H7NmMdX6m0Xs"
      }
    },
    {
      "cell_type": "markdown",
      "source": [
        "## Mount Google Drive"
      ],
      "metadata": {
        "id": "wovTIVBVRfjv"
      }
    },
    {
      "cell_type": "code",
      "source": [
        "from google.colab import drive\n",
        "drive.mount('/content/drive')"
      ],
      "metadata": {
        "id": "YjsRrETJRhor",
        "colab": {
          "base_uri": "https://localhost:8080/"
        },
        "outputId": "57c97cf4-01ac-41d4-97ce-5fb2ff2146b7"
      },
      "execution_count": 19,
      "outputs": [
        {
          "output_type": "stream",
          "name": "stdout",
          "text": [
            "Drive already mounted at /content/drive; to attempt to forcibly remount, call drive.mount(\"/content/drive\", force_remount=True).\n"
          ]
        }
      ]
    },
    {
      "cell_type": "code",
      "execution_count": 22,
      "metadata": {
        "id": "EhvAzKUivNFS"
      },
      "outputs": [],
      "source": [
        "asins = []\n",
        "\n",
        "# To run this code, you will need to download the metadata file from the course\n",
        "# assets and upload it to your Google Drive. See the notes about that file\n",
        "# regarding how it was processed from the original file into json-l format.\n",
        "\n",
        "with gzip.open(\"drive/MyDrive/meta_Clothing_Shoes_and_Jewelry.jsonl.gz\") as products:\n",
        "    for product in products:\n",
        "        data = json.loads(product)\n",
        "        categories = [c.lower() for c in\n",
        "                      list(itertools.chain(*data.get(\"categories\", [])))]\n",
        "        if \"nike\" in categories:\n",
        "            asins.append(data[\"asin\"])"
      ]
    },
    {
      "cell_type": "code",
      "source": [
        "asins[:3]"
      ],
      "metadata": {
        "id": "NAPsuP23vk3T",
        "colab": {
          "base_uri": "https://localhost:8080/"
        },
        "outputId": "652a27fe-f430-4af1-f689-23e580b3f1b8"
      },
      "execution_count": 23,
      "outputs": [
        {
          "output_type": "execute_result",
          "data": {
            "text/plain": [
              "['B0000V9K32', 'B0000V9K3W', 'B0000V9K46']"
            ]
          },
          "metadata": {},
          "execution_count": 23
        }
      ]
    },
    {
      "cell_type": "code",
      "source": [
        "len(asins)"
      ],
      "metadata": {
        "id": "zYIz6NBYv0ki",
        "colab": {
          "base_uri": "https://localhost:8080/"
        },
        "outputId": "25927050-291a-4901-fb13-9b776127bd24"
      },
      "execution_count": 24,
      "outputs": [
        {
          "output_type": "execute_result",
          "data": {
            "text/plain": [
              "8327"
            ]
          },
          "metadata": {},
          "execution_count": 24
        }
      ]
    },
    {
      "cell_type": "code",
      "source": [
        "# To run this code, you will need to download the reviews file from the course\n",
        "# assets and upload it to your Google Drive. Unlike the metadata above, this\n",
        "# file was originally provided as json-l, and is json-l despite the .json\n",
        "# file name.\n",
        "\n",
        "all_texts = []\n",
        "with gzip.open(\"drive/MyDrive/reviews_Clothing_Shoes_and_Jewelry_5.json.gz\") as reviews:\n",
        "    for review in reviews:\n",
        "        data = json.loads(review)\n",
        "        if data[\"asin\"] in asins:\n",
        "            text = data[\"reviewText\"]\n",
        "            all_texts.append(text)"
      ],
      "metadata": {
        "id": "BZULmiTPv2Nu"
      },
      "execution_count": 26,
      "outputs": []
    },
    {
      "cell_type": "code",
      "source": [
        "for i, text in enumerate(all_texts[:5]):\n",
        "    print(i, text[:80])"
      ],
      "metadata": {
        "id": "KoAM5XUrzfTh",
        "colab": {
          "base_uri": "https://localhost:8080/"
        },
        "outputId": "4dad2fa9-51f2-488a-9de5-24c8fb3728cb"
      },
      "execution_count": 27,
      "outputs": [
        {
          "output_type": "stream",
          "name": "stdout",
          "text": [
            "0 the colour i received is not blue as shown but yellow.Couldnt change it because \n",
            "1 Very cute and is really practical. Fits better on smaller wrists which is my cas\n",
            "2 The watch was exactly what i ordered and I got it very fast. Unfortunately it wa\n",
            "3 This product came promptly and as described, pleasure doing business with them!-\n",
            "4 Why isn't Nike making these anymore?  I love this watch, and I get a lot of comp\n"
          ]
        }
      ]
    },
    {
      "cell_type": "code",
      "source": [
        "negative_texts = get_negative_texts(all_texts)"
      ],
      "metadata": {
        "id": "cN1x7cVnzmN_"
      },
      "execution_count": 28,
      "outputs": []
    },
    {
      "cell_type": "code",
      "source": [
        "for i, text in enumerate(negative_texts[:5]):\n",
        "    print(i, text)"
      ],
      "metadata": {
        "id": "yJ3SJajozqz4",
        "colab": {
          "base_uri": "https://localhost:8080/"
        },
        "outputId": "f5f3f207-aca3-4115-a9e0-aa86de9ca67e"
      },
      "execution_count": 29,
      "outputs": [
        {
          "output_type": "stream",
          "name": "stdout",
          "text": [
            "0 I'm on my 4th watch... I keep returning it due to poor design.  The band keeps coming apart in the same spot!  Nike hasn't been helpful when I've been in contact with them.  Now, I'm on my 4th watch and something funking is going on with the face of this watch and I've brought it in to a jeweler to have the battery changed.. TWICE and it's still acting up.  I wouldn't purchase another NIKE watch.\n",
            "1 i had some problems with this order, the bill didn't arrive with the watch to the p.o. box and it couldn't be sent to my country as it was supossed to, when i finally recieved this watch (after sending several emails to solve the situation) it just didn't work, i had to spent money to fix it.\n",
            "2 Watch was very small and barely fit my 6 year-old daughter's wrist.  And she has a small frame!  Strange.\n",
            "3 The digital numbers were impossible to see I don't know if there was something wrong with the watch but the glare was terrible.  I sent this watch back.\n",
            "4 Everything that glitters is not gold!Similarly everything that has Nike written on it is not good!!I bought this item from Amazon for a friend in early 2004. That poor guy had used it for hardly few weeks when the display of it dimmed. So thinking that its a battery issue he replaced tha battery from an authorised shop. Then it worked for another few days, after which it died. It does not display anything at all, let alone keeping time!Since then we have been trying to get this thing repaired, but without any success!!Pure junk in the name of Nike!! Would not recommend any watch of Nike to anyone, you better get a Timex, it may not have \"just do it\" on it but it would at least keep the time!! :)\n"
          ]
        }
      ]
    },
    {
      "cell_type": "code",
      "source": [
        "len(negative_texts)"
      ],
      "metadata": {
        "id": "ed8eAHa1jqnJ",
        "colab": {
          "base_uri": "https://localhost:8080/"
        },
        "outputId": "fb055902-764a-4df7-c349-b2878d2677c5"
      },
      "execution_count": 30,
      "outputs": [
        {
          "output_type": "execute_result",
          "data": {
            "text/plain": [
              "1966"
            ]
          },
          "metadata": {},
          "execution_count": 30
        }
      ]
    },
    {
      "cell_type": "code",
      "source": [
        "print(negative_texts[:20])"
      ],
      "metadata": {
        "id": "cEAkmYErj65p",
        "colab": {
          "base_uri": "https://localhost:8080/"
        },
        "outputId": "1b21b465-d0bb-4d69-d9ab-2a831ff697d8"
      },
      "execution_count": 32,
      "outputs": [
        {
          "output_type": "stream",
          "name": "stdout",
          "text": [
            "[\"I'm on my 4th watch... I keep returning it due to poor design.  The band keeps coming apart in the same spot!  Nike hasn't been helpful when I've been in contact with them.  Now, I'm on my 4th watch and something funking is going on with the face of this watch and I've brought it in to a jeweler to have the battery changed.. TWICE and it's still acting up.  I wouldn't purchase another NIKE watch.\", \"i had some problems with this order, the bill didn't arrive with the watch to the p.o. box and it couldn't be sent to my country as it was supossed to, when i finally recieved this watch (after sending several emails to solve the situation) it just didn't work, i had to spent money to fix it.\", \"Watch was very small and barely fit my 6 year-old daughter's wrist.  And she has a small frame!  Strange.\", \"The digital numbers were impossible to see I don't know if there was something wrong with the watch but the glare was terrible.  I sent this watch back.\", 'Everything that glitters is not gold!Similarly everything that has Nike written on it is not good!!I bought this item from Amazon for a friend in early 2004. That poor guy had used it for hardly few weeks when the display of it dimmed. So thinking that its a battery issue he replaced tha battery from an authorised shop. Then it worked for another few days, after which it died. It does not display anything at all, let alone keeping time!Since then we have been trying to get this thing repaired, but without any success!!Pure junk in the name of Nike!! Would not recommend any watch of Nike to anyone, you better get a Timex, it may not have \"just do it\" on it but it would at least keep the time!! :)', \"I received these shoes last week. Aside from the usual break in period (stiffness), these shoes didn't take long to soften up.  My heels usually take a beating when I walk the golf course.  After my first round of golf wearing these shoes, my heels felt fine and no pain in the usual areas.\", \"My husband liked the colors of these shoes, but the width was wrong. Did not have this shoe in a 7 wide, so I ordered him a B width. He said they hurt his feet. Took them to a shoe repair shop and had them stretched twice. Didn't help. Giving them to the Goodwill. It was too late to have them sent back.\", 'Shoes do not fit like traditional Nike golf shoes... almost felt defective.  Ended up giving them away because they were so uncomfortable the first time I wore them on the field.  Would not recommend.', \"They are confortable to wear and are of quality construction. They haven't helped my golf game though! I guess shoes aren't my problem!\", 'These shoes were very stiff when I first got them but they broke in quickly.Good pair to play in.', 'Sent wrong color shoes. Sent white when I ordered black but I had to use them anyway because of time. Not very happy. Shoes are good quality though', 'I knew the second I took them out of the box that they were too narrow, and looked a bit too short as well ( I wear a 14).  Once I tried them on (with dress socks) and struggled mightily, I knew golf socks would not work, and they were simply too small in every way to play.  I would plan on them being this way for you as well and either order a bigger size and width, or get another shoe.', 'I had to return the shoes after wearing them just two times, because they did not live up to the water proof waranty.', \"I have owned this Nike watch for 7 months. Don't waste your money.  The black bubber wrist band had separated from the body at the rear battery cover. The entire rubber/plastic hinge had cracked. This wrist band is not replaceable. A sports watch should be made rugged. This one is not. Lesson learned is to buy a watch which has a standard replacable wrist band.\", 'Too tight which makr it uncomfortable, I think the size may not be accurate. Esthetically it is not bad. But it fit weirdly in my feet', 'This shoe is a nice looking shoe. It just runs small. Money wasted. No more buying shoes online for me.', \"The size was not right, but I would have returned them anyway as they arrived laced up, with sock fuzz in side, and soles a bit dirty...one had a small pc of gravel imbedded.  Gross.  I got someone's returned, slightly used shoes.Merry Xmas?  Ugh....\", 'I bought a Size 11 (D) from Dicks and it was too narrow for my feet. I had to return it back. If you have wide feet, make sure you dont order these as they come very narrow.', 'I ordered a half size larger than I wear in a dress show and I am not sure this large enough, had not had time to wear around the house to try out as I got them just before leaving on a trip where I wanted to wear them, but on first trying them out of the box I felt they were too small. I will try again before deciding to keep or return', 'This shoe is inaccurately sized at 11 1/2 - too small. I should have returned them, but thought they would have stretched. They did, but not enough. Wearable, but not quite right. Have bought dozens of running shoes at 11 1/2 size (I wear an 11 street shoe) and this one is way on the left end of the bell curve of fits.']\n"
          ]
        }
      ]
    },
    {
      "cell_type": "markdown",
      "source": [
        "## Moving forward\n",
        "\n"
      ],
      "metadata": {
        "id": "rCZaYsLtp1r5"
      }
    },
    {
      "cell_type": "markdown",
      "source": [
        "### About segmentation\n",
        "\n",
        "Between the Sales Rank segmentation demo notebook, and this sentiment segmentation assigment, you should have a good sense at this point of the idea of segmentation, and how you might approach it in this data set. You will make use of this knowledge in the unit project -- your peers will be checking to see that you segmented your product data in an interesting way as part of the analysis for the project."
      ],
      "metadata": {
        "id": "pe5Jkr1KrOoe"
      }
    },
    {
      "cell_type": "markdown",
      "source": [
        "### Moving on to topic modeling\n",
        "\n",
        "Before tackling the project, be sure to do the topic modeling assignment which is the next and final component in preparation for the unit project."
      ],
      "metadata": {
        "id": "Cr1R-LvgrLhx"
      }
    },
    {
      "cell_type": "code",
      "source": [],
      "metadata": {
        "id": "HZbFbKMxz_oy"
      },
      "execution_count": null,
      "outputs": []
    }
  ]
}